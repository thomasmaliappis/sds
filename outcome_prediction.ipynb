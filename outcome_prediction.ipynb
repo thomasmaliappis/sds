{
 "cells": [
  {
   "cell_type": "markdown",
   "source": [
    "# Imports"
   ],
   "metadata": {
    "collapsed": false,
    "pycharm": {
     "name": "#%% md\n"
    }
   }
  },
  {
   "cell_type": "code",
   "execution_count": 70,
   "outputs": [],
   "source": [
    "from os.path import exists\n",
    "\n",
    "import numpy as np\n",
    "import pandas as pd\n",
    "from sklearn import model_selection\n",
    "from sklearn.ensemble import RandomForestClassifier\n",
    "from sklearn.linear_model import LogisticRegression\n",
    "from sklearn.metrics import classification_report, accuracy_score, precision_score, recall_score, f1_score\n",
    "from sklearn.model_selection import train_test_split, GridSearchCV\n",
    "from sklearn.naive_bayes import GaussianNB\n",
    "from sklearn.neighbors import KNeighborsClassifier\n",
    "from sklearn.svm import SVC"
   ],
   "metadata": {
    "collapsed": false,
    "pycharm": {
     "name": "#%%\n"
    }
   }
  },
  {
   "cell_type": "markdown",
   "source": [
    "# Load csv files"
   ],
   "metadata": {
    "collapsed": false,
    "pycharm": {
     "name": "#%% md\n"
    }
   }
  },
  {
   "cell_type": "code",
   "execution_count": 31,
   "outputs": [],
   "source": [
    "def load_data(fname):\n",
    "    # Make sure it exists\n",
    "    if not exists(fname):\n",
    "        raise Exception('USER ERROR: Couldnt find the file <%s>..' % fname)\n",
    "\n",
    "    # Read the csv as a df\n",
    "    df = pd.read_csv(fname)\n",
    "    return df"
   ],
   "metadata": {
    "collapsed": false,
    "pycharm": {
     "name": "#%%\n"
    }
   }
  },
  {
   "cell_type": "code",
   "execution_count": 32,
   "outputs": [],
   "source": [
    "playbyplay_df = load_data(\"./data/playbyplay_data_dump.csv\")\n",
    "game_df = load_data(\"./data/match_data_dump.csv\")\n",
    "player_df = load_data(\"./data/player_data_dump.csv\")"
   ],
   "metadata": {
    "collapsed": false,
    "pycharm": {
     "name": "#%%\n"
    }
   }
  },
  {
   "cell_type": "code",
   "execution_count": 95,
   "outputs": [],
   "source": [
    "temp_playbyplay_df = pd.merge(playbyplay_df, player_df[['gameId', 'playerId', 'teamId']], on=['gameId', 'playerId'])\n",
    "pbp_df = pd.merge(temp_playbyplay_df, game_df[['gameId', 'homeTeamId', 'awayTeamId']], on=['gameId'])\n",
    "pbp_df[['homeTeamId', 'awayTeamId']] = pbp_df[['homeTeamId', 'awayTeamId']].astype(int)\n",
    "pbp_df['team'] = np.where((pbp_df.teamId == pbp_df.homeTeamId), 'home', 'away')\n",
    "pbp_df.drop(columns=['teamId', 'homeTeamId', 'awayTeamId', 'playerId', 'time', 'dateTime'], inplace=True)\n",
    "# renaming type values\n",
    "pbp_df.type.replace(\n",
    "    {\n",
    "        'FieldGoalMissed': 'fg_missed', 'Rebound': 'reb', 'FieldGoalMade': 'fg_made', 'Steal': 'stl',\n",
    "        'FreeThrowMissed': 'ft_missed', 'FreeThrowMade': 'ft_made',\n",
    "        'Turnover': 'to', 'Goaltending': 'to', 'LaneViolation': 'to', 'Traveling': 'to', 'Palming': 'to',\n",
    "        'ShootingFoul': 'pf', 'PersonalFoul': 'pf', 'OffensiveFoul': 'pf', 'LooseBallFoul': 'pf',\n",
    "        'TechnicalFoul': 'pf', 'Foul': 'pf', 'FlagrantFoul': 'pf'\n",
    "    },\n",
    "    inplace=True\n",
    ")"
   ],
   "metadata": {
    "collapsed": false,
    "pycharm": {
     "name": "#%%\n"
    }
   }
  },
  {
   "cell_type": "markdown",
   "source": [
    "# Create features dataframe"
   ],
   "metadata": {
    "collapsed": false,
    "pycharm": {
     "name": "#%% md\n"
    }
   }
  },
  {
   "cell_type": "markdown",
   "source": [
    "Filter dataframe by quarter"
   ],
   "metadata": {
    "collapsed": false,
    "pycharm": {
     "name": "#%% md\n"
    }
   }
  },
  {
   "cell_type": "code",
   "execution_count": 33,
   "outputs": [],
   "source": [
    "def get_quarter_df(df, quarter, start=True):\n",
    "    if start:\n",
    "        minutes = (df.remainingMinutes >= 6)\n",
    "    else:\n",
    "        minutes = (df.remainingMinutes < 6)\n",
    "    return df[\n",
    "        (df.quarter == quarter) &\n",
    "        minutes\n",
    "        ].sort_values(by=['playId'])"
   ],
   "metadata": {
    "collapsed": false,
    "pycharm": {
     "name": "#%%\n"
    }
   }
  },
  {
   "cell_type": "markdown",
   "source": [
    "Retrieve lead changes for each game in dataframe"
   ],
   "metadata": {
    "collapsed": false,
    "pycharm": {
     "name": "#%% md\n"
    }
   }
  },
  {
   "cell_type": "code",
   "execution_count": 34,
   "outputs": [],
   "source": [
    "def get_lead_changes(df):\n",
    "    df['lead'] = df.apply(\n",
    "        lambda x: 1 if x['homeScore'] > x['awayScore'] else (-1 if x['homeScore'] < x['awayScore'] else 0), axis=1)\n",
    "\n",
    "    lead_dict = {}\n",
    "    for gameId in df.gameId.unique():\n",
    "        game_df = df[df.gameId == gameId]\n",
    "        lead_dict[gameId] = sum(np.sign(game_df['lead']).diff().ne(0))\n",
    "    lead_df = pd.DataFrame.from_dict(lead_dict, orient='index')\n",
    "    lead_df.reset_index(inplace=True)\n",
    "    lead_df.rename(columns={'index': 'gameId', 0: 'lead_changes'}, inplace=True)\n",
    "    return lead_df"
   ],
   "metadata": {
    "collapsed": false,
    "pycharm": {
     "name": "#%%\n"
    }
   }
  },
  {
   "cell_type": "markdown",
   "source": [
    "Retrieve score related stats for each game in dataframe"
   ],
   "metadata": {
    "collapsed": false,
    "pycharm": {
     "name": "#%% md\n"
    }
   }
  },
  {
   "cell_type": "code",
   "execution_count": 35,
   "outputs": [],
   "source": [
    "def get_score_stats(df):\n",
    "    score_dict = {'gameId': [], 'homeScore': [], 'awayScore': []}\n",
    "    for gameId in df.gameId.unique():\n",
    "        game_df = df[df.gameId == gameId]\n",
    "        last_row_df = game_df.iloc[-1:]\n",
    "        score_dict['gameId'].append(last_row_df['gameId'].values[0])\n",
    "        score_dict['homeScore'].append(last_row_df['homeScore'].values[0])\n",
    "        score_dict['awayScore'].append(last_row_df['awayScore'].values[0])\n",
    "    score_df = pd.DataFrame.from_dict(score_dict)\n",
    "    score_df['pointDiff'] = score_df['homeScore'] - score_df['awayScore']\n",
    "    score_df['pointSum'] = score_df['homeScore'] + score_df['awayScore']\n",
    "    return score_df"
   ],
   "metadata": {
    "collapsed": false,
    "pycharm": {
     "name": "#%%\n"
    }
   }
  },
  {
   "cell_type": "markdown",
   "source": [
    "Create stats dataframe from event data"
   ],
   "metadata": {
    "collapsed": false,
    "pycharm": {
     "name": "#%% md\n"
    }
   }
  },
  {
   "cell_type": "code",
   "execution_count": 36,
   "outputs": [],
   "source": [
    "def get_stats(df, quarter=None):\n",
    "    stats_counts = df.groupby(['gameId', 'team', 'type']).size()\n",
    "    stats_counts = stats_counts.reset_index()\n",
    "    stats_counts.rename(columns={0: 'count'}, inplace=True)\n",
    "    if quarter is not None:\n",
    "        stats_counts['stat'] = 'q' + str(quarter) + '_' + stats_counts['team'] + '_' + stats_counts['type']\n",
    "    else:\n",
    "        stats_counts['stat'] = stats_counts['team'] + '_' + stats_counts['type']\n",
    "    stats_counts.drop(columns=['team', 'type'], inplace=True)\n",
    "    stats_df = stats_counts.pivot_table(index=['gameId'], columns=['stat'], values='count').fillna(0)\n",
    "    stats_df.reset_index(inplace=True)\n",
    "\n",
    "    lead_df = get_lead_changes(df)\n",
    "    if quarter is not None:\n",
    "        lead_df.rename(columns={\n",
    "            'lead_changes': 'q' + quarter + '_lead_changes'\n",
    "        }, inplace=True)\n",
    "    stats_df = pd.merge(stats_df, lead_df, on='gameId')\n",
    "\n",
    "    score_df = get_score_stats(df)\n",
    "    if quarter is not None:\n",
    "        score_df.rename(columns={\n",
    "            'homeScore': 'q' + quarter + '_h_score',\n",
    "            'awayScore': 'q' + quarter + '_a_score',\n",
    "            'pointDiff': 'q' + quarter + '_pointDiff',\n",
    "            'pointSum': 'q' + quarter + '_pointSum'\n",
    "        }, inplace=True)\n",
    "    stats_df = pd.merge(stats_df, score_df, on='gameId')\n",
    "\n",
    "    return stats_df"
   ],
   "metadata": {
    "collapsed": false,
    "pycharm": {
     "name": "#%%\n"
    }
   }
  },
  {
   "cell_type": "code",
   "execution_count": 37,
   "outputs": [],
   "source": [
    "def build_stats_df():\n",
    "    temp_playbyplay_df = pd.merge(playbyplay_df, player_df[['gameId', 'playerId', 'teamId']], on=['gameId', 'playerId'])\n",
    "    pbp_df = pd.merge(temp_playbyplay_df, game_df[['gameId', 'homeTeamId', 'awayTeamId']], on=['gameId'])\n",
    "    pbp_df[['homeTeamId', 'awayTeamId']] = pbp_df[['homeTeamId', 'awayTeamId']].astype(int)\n",
    "    pbp_df['team'] = np.where((pbp_df.teamId == pbp_df.homeTeamId), 'home', 'away')\n",
    "    pbp_df.drop(columns=['teamId', 'homeTeamId', 'awayTeamId', 'playerId', 'time', 'dateTime'], inplace=True)\n",
    "    # renaming type values\n",
    "    pbp_df.type.replace(\n",
    "        {\n",
    "            'FieldGoalMissed': 'fg_missed', 'Rebound': 'reb', 'FieldGoalMade': 'fg_made', 'Steal': 'stl',\n",
    "            'FreeThrowMissed': 'ft_missed', 'FreeThrowMade': 'ft_made',\n",
    "            'Turnover': 'to', 'Goaltending': 'to', 'LaneViolation': 'to', 'Traveling': 'to', 'Palming': 'to',\n",
    "            'ShootingFoul': 'pf', 'PersonalFoul': 'pf', 'OffensiveFoul': 'pf', 'LooseBallFoul': 'pf',\n",
    "            'TechnicalFoul': 'pf', 'Foul': 'pf', 'FlagrantFoul': 'pf'\n",
    "        },\n",
    "        inplace=True\n",
    "    )\n",
    "    # dropping KickedBall and JumpBall\n",
    "    pbp_df.drop(pbp_df[pbp_df.type.isin(['KickedBall', 'JumpBall'])].index, inplace=True)\n",
    "\n",
    "    # q1_start_stats = get_stats(get_quarter_df(pbp_df, '1'), '1_s')\n",
    "    # q1_end_stats = get_stats(get_quarter_df(pbp_df, '1', start=False), '1_e')\n",
    "    # q2_start_stats = get_stats(get_quarter_df(pbp_df, '2'), '2_s')\n",
    "    # q2_end_stats = get_stats(get_quarter_df(pbp_df, '2', start=False), '2_e')\n",
    "    # # q3_start_stats = get_stats(get_quarter_df(pbp_df, '3'), '3_s')\n",
    "    # # q3_end_stats = get_stats(get_quarter_df(pbp_df, '3', start=False), '3_e')\n",
    "    # q1_df = pd.merge(q1_start_stats, q1_end_stats, on=['gameId'])\n",
    "    # q2_df = pd.merge(q2_start_stats, q2_end_stats, on=['gameId'])\n",
    "    # # q3_df = pd.merge(q3_start_stats, q3_end_stats, on=['gameId'])\n",
    "    # stats_df = pd.merge(q1_df, q2_df, on=['gameId'])\n",
    "    # # stats_df = pd.merge(stats_df, q3_df, on=['gameId'])\n",
    "    # stats_df = pd.merge(stats_df, game_df[['gameId', 'pointsDiff']], on=['gameId'])\n",
    "\n",
    "    game_quarter_array = pbp_df.groupby('gameId')['quarter'].unique()\n",
    "\n",
    "    games_drop = []\n",
    "    for index, quarter_array in game_quarter_array.items():\n",
    "        if '1' not in quarter_array or '2' not in quarter_array:\n",
    "            games_drop.append(index)\n",
    "\n",
    "    pbp_df.drop(pbp_df[pbp_df.gameId.isin(games_drop)].index, inplace=True)\n",
    "    # check without different stats for each quarter\n",
    "    half_df = pbp_df[(pbp_df.quarter.isin(['1', '2']))].sort_values(by=['playId'])\n",
    "    stats_df = get_stats(half_df)\n",
    "    stats_df = pd.merge(stats_df, game_df[['gameId', 'pointsDiff']], on=['gameId'])\n",
    "\n",
    "    stats_df.loc[stats_df['pointsDiff'] > 0, 'Result'] = 1\n",
    "    stats_df.loc[(stats_df['pointsDiff'] < 0), 'Result'] = 0\n",
    "    stats_df.loc[:, ~stats_df.columns.isin(['gameId'])] = stats_df.loc[:, ~stats_df.columns.isin(['gameId'])].astype(\n",
    "        int)\n",
    "    stats_df.drop(columns='pointsDiff', inplace=True)\n",
    "    return stats_df"
   ],
   "metadata": {
    "collapsed": false,
    "pycharm": {
     "name": "#%%\n"
    }
   }
  },
  {
   "cell_type": "markdown",
   "source": [],
   "metadata": {
    "collapsed": false,
    "pycharm": {
     "name": "#%% md\n"
    }
   }
  },
  {
   "cell_type": "code",
   "execution_count": 49,
   "outputs": [],
   "source": [
    "stats_filename = './data/half_stats.csv'\n",
    "if exists(stats_filename):\n",
    "    stats_df = load_data(stats_filename)\n",
    "else:\n",
    "    stats_df = build_stats_df()\n",
    "    stats_df.to_csv(stats_filename, index=False)\n",
    "\n",
    "X = stats_df.loc[:, ~stats_df.columns.isin(['gameId', 'Result'])]\n",
    "y = stats_df[['Result']]"
   ],
   "metadata": {
    "collapsed": false,
    "pycharm": {
     "name": "#%%\n"
    }
   }
  },
  {
   "cell_type": "markdown",
   "source": [
    "# Dataset"
   ],
   "metadata": {
    "collapsed": false,
    "pycharm": {
     "name": "#%% md\n"
    }
   }
  },
  {
   "cell_type": "markdown",
   "source": [
    "# Classification"
   ],
   "metadata": {
    "collapsed": false,
    "pycharm": {
     "name": "#%% md\n"
    }
   }
  },
  {
   "cell_type": "code",
   "execution_count": 50,
   "outputs": [],
   "source": [
    "def experiments(X_train, y_train, X_test, y_test):\n",
    "    dfs = []\n",
    "\n",
    "    models = [\n",
    "        ('LR', LogisticRegression()),\n",
    "        ('RF', RandomForestClassifier()),\n",
    "        ('KNN', KNeighborsClassifier()),\n",
    "        ('SVM', SVC()),\n",
    "        ('GNB', GaussianNB())\n",
    "    ]\n",
    "\n",
    "    results = []\n",
    "\n",
    "    names = []\n",
    "\n",
    "    scoring = ['accuracy', 'precision_weighted', 'recall_weighted', 'f1_weighted', 'roc_auc']\n",
    "\n",
    "    target_names = ['win', 'loss']\n",
    "\n",
    "    for name, model in models:\n",
    "        kfold = model_selection.KFold(n_splits=5, shuffle=True, random_state=0)\n",
    "        cv_results = model_selection.cross_validate(model, X_train, y_train, cv=kfold, scoring=scoring)\n",
    "        clf = model.fit(X_train, y_train)\n",
    "        y_pred = clf.predict(X_test)\n",
    "\n",
    "        print(name)\n",
    "        print(classification_report(y_test, y_pred, target_names=target_names))\n",
    "\n",
    "        results.append(cv_results)\n",
    "        names.append(name)\n",
    "\n",
    "        this_df = pd.DataFrame(cv_results)\n",
    "        this_df['model'] = name\n",
    "        dfs.append(this_df)\n",
    "\n",
    "    final = pd.concat(dfs, ignore_index=True)\n",
    "\n",
    "    return final"
   ],
   "metadata": {
    "collapsed": false,
    "pycharm": {
     "name": "#%%\n"
    }
   }
  },
  {
   "cell_type": "code",
   "execution_count": 51,
   "outputs": [
    {
     "name": "stderr",
     "output_type": "stream",
     "text": [
      "C:\\Users\\thoma\\AppData\\Local\\Programs\\Python\\Python39\\lib\\site-packages\\sklearn\\utils\\validation.py:63: DataConversionWarning: A column-vector y was passed when a 1d array was expected. Please change the shape of y to (n_samples, ), for example using ravel().\n",
      "  return f(*args, **kwargs)\n",
      "C:\\Users\\thoma\\AppData\\Local\\Programs\\Python\\Python39\\lib\\site-packages\\sklearn\\linear_model\\_logistic.py:763: ConvergenceWarning: lbfgs failed to converge (status=1):\n",
      "STOP: TOTAL NO. of ITERATIONS REACHED LIMIT.\n",
      "\n",
      "Increase the number of iterations (max_iter) or scale the data as shown in:\n",
      "    https://scikit-learn.org/stable/modules/preprocessing.html\n",
      "Please also refer to the documentation for alternative solver options:\n",
      "    https://scikit-learn.org/stable/modules/linear_model.html#logistic-regression\n",
      "  n_iter_i = _check_optimize_result(\n",
      "C:\\Users\\thoma\\AppData\\Local\\Programs\\Python\\Python39\\lib\\site-packages\\sklearn\\utils\\validation.py:63: DataConversionWarning: A column-vector y was passed when a 1d array was expected. Please change the shape of y to (n_samples, ), for example using ravel().\n",
      "  return f(*args, **kwargs)\n",
      "C:\\Users\\thoma\\AppData\\Local\\Programs\\Python\\Python39\\lib\\site-packages\\sklearn\\linear_model\\_logistic.py:763: ConvergenceWarning: lbfgs failed to converge (status=1):\n",
      "STOP: TOTAL NO. of ITERATIONS REACHED LIMIT.\n",
      "\n",
      "Increase the number of iterations (max_iter) or scale the data as shown in:\n",
      "    https://scikit-learn.org/stable/modules/preprocessing.html\n",
      "Please also refer to the documentation for alternative solver options:\n",
      "    https://scikit-learn.org/stable/modules/linear_model.html#logistic-regression\n",
      "  n_iter_i = _check_optimize_result(\n",
      "C:\\Users\\thoma\\AppData\\Local\\Programs\\Python\\Python39\\lib\\site-packages\\sklearn\\utils\\validation.py:63: DataConversionWarning: A column-vector y was passed when a 1d array was expected. Please change the shape of y to (n_samples, ), for example using ravel().\n",
      "  return f(*args, **kwargs)\n",
      "C:\\Users\\thoma\\AppData\\Local\\Programs\\Python\\Python39\\lib\\site-packages\\sklearn\\linear_model\\_logistic.py:763: ConvergenceWarning: lbfgs failed to converge (status=1):\n",
      "STOP: TOTAL NO. of ITERATIONS REACHED LIMIT.\n",
      "\n",
      "Increase the number of iterations (max_iter) or scale the data as shown in:\n",
      "    https://scikit-learn.org/stable/modules/preprocessing.html\n",
      "Please also refer to the documentation for alternative solver options:\n",
      "    https://scikit-learn.org/stable/modules/linear_model.html#logistic-regression\n",
      "  n_iter_i = _check_optimize_result(\n",
      "C:\\Users\\thoma\\AppData\\Local\\Programs\\Python\\Python39\\lib\\site-packages\\sklearn\\utils\\validation.py:63: DataConversionWarning: A column-vector y was passed when a 1d array was expected. Please change the shape of y to (n_samples, ), for example using ravel().\n",
      "  return f(*args, **kwargs)\n",
      "C:\\Users\\thoma\\AppData\\Local\\Programs\\Python\\Python39\\lib\\site-packages\\sklearn\\linear_model\\_logistic.py:763: ConvergenceWarning: lbfgs failed to converge (status=1):\n",
      "STOP: TOTAL NO. of ITERATIONS REACHED LIMIT.\n",
      "\n",
      "Increase the number of iterations (max_iter) or scale the data as shown in:\n",
      "    https://scikit-learn.org/stable/modules/preprocessing.html\n",
      "Please also refer to the documentation for alternative solver options:\n",
      "    https://scikit-learn.org/stable/modules/linear_model.html#logistic-regression\n",
      "  n_iter_i = _check_optimize_result(\n",
      "C:\\Users\\thoma\\AppData\\Local\\Programs\\Python\\Python39\\lib\\site-packages\\sklearn\\utils\\validation.py:63: DataConversionWarning: A column-vector y was passed when a 1d array was expected. Please change the shape of y to (n_samples, ), for example using ravel().\n",
      "  return f(*args, **kwargs)\n",
      "C:\\Users\\thoma\\AppData\\Local\\Programs\\Python\\Python39\\lib\\site-packages\\sklearn\\linear_model\\_logistic.py:763: ConvergenceWarning: lbfgs failed to converge (status=1):\n",
      "STOP: TOTAL NO. of ITERATIONS REACHED LIMIT.\n",
      "\n",
      "Increase the number of iterations (max_iter) or scale the data as shown in:\n",
      "    https://scikit-learn.org/stable/modules/preprocessing.html\n",
      "Please also refer to the documentation for alternative solver options:\n",
      "    https://scikit-learn.org/stable/modules/linear_model.html#logistic-regression\n",
      "  n_iter_i = _check_optimize_result(\n",
      "C:\\Users\\thoma\\AppData\\Local\\Programs\\Python\\Python39\\lib\\site-packages\\sklearn\\utils\\validation.py:63: DataConversionWarning: A column-vector y was passed when a 1d array was expected. Please change the shape of y to (n_samples, ), for example using ravel().\n",
      "  return f(*args, **kwargs)\n",
      "C:\\Users\\thoma\\AppData\\Local\\Programs\\Python\\Python39\\lib\\site-packages\\sklearn\\linear_model\\_logistic.py:763: ConvergenceWarning: lbfgs failed to converge (status=1):\n",
      "STOP: TOTAL NO. of ITERATIONS REACHED LIMIT.\n",
      "\n",
      "Increase the number of iterations (max_iter) or scale the data as shown in:\n",
      "    https://scikit-learn.org/stable/modules/preprocessing.html\n",
      "Please also refer to the documentation for alternative solver options:\n",
      "    https://scikit-learn.org/stable/modules/linear_model.html#logistic-regression\n",
      "  n_iter_i = _check_optimize_result(\n",
      "C:\\Users\\thoma\\AppData\\Local\\Programs\\Python\\Python39\\lib\\site-packages\\sklearn\\model_selection\\_validation.py:598: DataConversionWarning: A column-vector y was passed when a 1d array was expected. Please change the shape of y to (n_samples,), for example using ravel().\n",
      "  estimator.fit(X_train, y_train, **fit_params)\n"
     ]
    },
    {
     "name": "stdout",
     "output_type": "stream",
     "text": [
      "LR\n",
      "              precision    recall  f1-score   support\n",
      "\n",
      "         win       0.69      0.59      0.64       479\n",
      "        loss       0.74      0.81      0.77       686\n",
      "\n",
      "    accuracy                           0.72      1165\n",
      "   macro avg       0.71      0.70      0.71      1165\n",
      "weighted avg       0.72      0.72      0.72      1165\n",
      "\n"
     ]
    },
    {
     "name": "stderr",
     "output_type": "stream",
     "text": [
      "C:\\Users\\thoma\\AppData\\Local\\Programs\\Python\\Python39\\lib\\site-packages\\sklearn\\model_selection\\_validation.py:598: DataConversionWarning: A column-vector y was passed when a 1d array was expected. Please change the shape of y to (n_samples,), for example using ravel().\n",
      "  estimator.fit(X_train, y_train, **fit_params)\n",
      "C:\\Users\\thoma\\AppData\\Local\\Programs\\Python\\Python39\\lib\\site-packages\\sklearn\\model_selection\\_validation.py:598: DataConversionWarning: A column-vector y was passed when a 1d array was expected. Please change the shape of y to (n_samples,), for example using ravel().\n",
      "  estimator.fit(X_train, y_train, **fit_params)\n",
      "C:\\Users\\thoma\\AppData\\Local\\Programs\\Python\\Python39\\lib\\site-packages\\sklearn\\model_selection\\_validation.py:598: DataConversionWarning: A column-vector y was passed when a 1d array was expected. Please change the shape of y to (n_samples,), for example using ravel().\n",
      "  estimator.fit(X_train, y_train, **fit_params)\n",
      "C:\\Users\\thoma\\AppData\\Local\\Programs\\Python\\Python39\\lib\\site-packages\\sklearn\\model_selection\\_validation.py:598: DataConversionWarning: A column-vector y was passed when a 1d array was expected. Please change the shape of y to (n_samples,), for example using ravel().\n",
      "  estimator.fit(X_train, y_train, **fit_params)\n",
      "C:\\Users\\thoma\\AppData\\Local\\Temp/ipykernel_28588/3484613502.py:24: DataConversionWarning: A column-vector y was passed when a 1d array was expected. Please change the shape of y to (n_samples,), for example using ravel().\n",
      "  clf = model.fit(X_train, y_train)\n"
     ]
    },
    {
     "name": "stdout",
     "output_type": "stream",
     "text": [
      "RF\n",
      "              precision    recall  f1-score   support\n",
      "\n",
      "         win       0.65      0.58      0.61       479\n",
      "        loss       0.73      0.78      0.75       686\n",
      "\n",
      "    accuracy                           0.70      1165\n",
      "   macro avg       0.69      0.68      0.68      1165\n",
      "weighted avg       0.70      0.70      0.70      1165\n",
      "\n"
     ]
    },
    {
     "name": "stderr",
     "output_type": "stream",
     "text": [
      "C:\\Users\\thoma\\AppData\\Local\\Programs\\Python\\Python39\\lib\\site-packages\\sklearn\\neighbors\\_classification.py:179: DataConversionWarning: A column-vector y was passed when a 1d array was expected. Please change the shape of y to (n_samples,), for example using ravel().\n",
      "  return self._fit(X, y)\n",
      "C:\\Users\\thoma\\AppData\\Local\\Programs\\Python\\Python39\\lib\\site-packages\\sklearn\\neighbors\\_classification.py:179: DataConversionWarning: A column-vector y was passed when a 1d array was expected. Please change the shape of y to (n_samples,), for example using ravel().\n",
      "  return self._fit(X, y)\n",
      "C:\\Users\\thoma\\AppData\\Local\\Programs\\Python\\Python39\\lib\\site-packages\\sklearn\\neighbors\\_classification.py:179: DataConversionWarning: A column-vector y was passed when a 1d array was expected. Please change the shape of y to (n_samples,), for example using ravel().\n",
      "  return self._fit(X, y)\n",
      "C:\\Users\\thoma\\AppData\\Local\\Programs\\Python\\Python39\\lib\\site-packages\\sklearn\\neighbors\\_classification.py:179: DataConversionWarning: A column-vector y was passed when a 1d array was expected. Please change the shape of y to (n_samples,), for example using ravel().\n",
      "  return self._fit(X, y)\n",
      "C:\\Users\\thoma\\AppData\\Local\\Programs\\Python\\Python39\\lib\\site-packages\\sklearn\\neighbors\\_classification.py:179: DataConversionWarning: A column-vector y was passed when a 1d array was expected. Please change the shape of y to (n_samples,), for example using ravel().\n",
      "  return self._fit(X, y)\n",
      "C:\\Users\\thoma\\AppData\\Local\\Programs\\Python\\Python39\\lib\\site-packages\\sklearn\\neighbors\\_classification.py:179: DataConversionWarning: A column-vector y was passed when a 1d array was expected. Please change the shape of y to (n_samples,), for example using ravel().\n",
      "  return self._fit(X, y)\n"
     ]
    },
    {
     "name": "stdout",
     "output_type": "stream",
     "text": [
      "KNN\n",
      "              precision    recall  f1-score   support\n",
      "\n",
      "         win       0.60      0.56      0.58       479\n",
      "        loss       0.71      0.73      0.72       686\n",
      "\n",
      "    accuracy                           0.66      1165\n",
      "   macro avg       0.65      0.65      0.65      1165\n",
      "weighted avg       0.66      0.66      0.66      1165\n",
      "\n"
     ]
    },
    {
     "name": "stderr",
     "output_type": "stream",
     "text": [
      "C:\\Users\\thoma\\AppData\\Local\\Programs\\Python\\Python39\\lib\\site-packages\\sklearn\\utils\\validation.py:63: DataConversionWarning: A column-vector y was passed when a 1d array was expected. Please change the shape of y to (n_samples, ), for example using ravel().\n",
      "  return f(*args, **kwargs)\n",
      "C:\\Users\\thoma\\AppData\\Local\\Programs\\Python\\Python39\\lib\\site-packages\\sklearn\\utils\\validation.py:63: DataConversionWarning: A column-vector y was passed when a 1d array was expected. Please change the shape of y to (n_samples, ), for example using ravel().\n",
      "  return f(*args, **kwargs)\n",
      "C:\\Users\\thoma\\AppData\\Local\\Programs\\Python\\Python39\\lib\\site-packages\\sklearn\\utils\\validation.py:63: DataConversionWarning: A column-vector y was passed when a 1d array was expected. Please change the shape of y to (n_samples, ), for example using ravel().\n",
      "  return f(*args, **kwargs)\n",
      "C:\\Users\\thoma\\AppData\\Local\\Programs\\Python\\Python39\\lib\\site-packages\\sklearn\\utils\\validation.py:63: DataConversionWarning: A column-vector y was passed when a 1d array was expected. Please change the shape of y to (n_samples, ), for example using ravel().\n",
      "  return f(*args, **kwargs)\n",
      "C:\\Users\\thoma\\AppData\\Local\\Programs\\Python\\Python39\\lib\\site-packages\\sklearn\\utils\\validation.py:63: DataConversionWarning: A column-vector y was passed when a 1d array was expected. Please change the shape of y to (n_samples, ), for example using ravel().\n",
      "  return f(*args, **kwargs)\n",
      "C:\\Users\\thoma\\AppData\\Local\\Programs\\Python\\Python39\\lib\\site-packages\\sklearn\\utils\\validation.py:63: DataConversionWarning: A column-vector y was passed when a 1d array was expected. Please change the shape of y to (n_samples, ), for example using ravel().\n",
      "  return f(*args, **kwargs)\n"
     ]
    },
    {
     "name": "stdout",
     "output_type": "stream",
     "text": [
      "SVM\n",
      "              precision    recall  f1-score   support\n",
      "\n",
      "         win       0.71      0.56      0.62       479\n",
      "        loss       0.73      0.84      0.78       686\n",
      "\n",
      "    accuracy                           0.72      1165\n",
      "   macro avg       0.72      0.70      0.70      1165\n",
      "weighted avg       0.72      0.72      0.71      1165\n",
      "\n",
      "GNB\n",
      "              precision    recall  f1-score   support\n",
      "\n",
      "         win       0.67      0.67      0.67       479\n",
      "        loss       0.77      0.77      0.77       686\n",
      "\n",
      "    accuracy                           0.73      1165\n",
      "   macro avg       0.72      0.72      0.72      1165\n",
      "weighted avg       0.73      0.73      0.73      1165\n",
      "\n"
     ]
    },
    {
     "name": "stderr",
     "output_type": "stream",
     "text": [
      "C:\\Users\\thoma\\AppData\\Local\\Programs\\Python\\Python39\\lib\\site-packages\\sklearn\\utils\\validation.py:63: DataConversionWarning: A column-vector y was passed when a 1d array was expected. Please change the shape of y to (n_samples, ), for example using ravel().\n",
      "  return f(*args, **kwargs)\n",
      "C:\\Users\\thoma\\AppData\\Local\\Programs\\Python\\Python39\\lib\\site-packages\\sklearn\\utils\\validation.py:63: DataConversionWarning: A column-vector y was passed when a 1d array was expected. Please change the shape of y to (n_samples, ), for example using ravel().\n",
      "  return f(*args, **kwargs)\n",
      "C:\\Users\\thoma\\AppData\\Local\\Programs\\Python\\Python39\\lib\\site-packages\\sklearn\\utils\\validation.py:63: DataConversionWarning: A column-vector y was passed when a 1d array was expected. Please change the shape of y to (n_samples, ), for example using ravel().\n",
      "  return f(*args, **kwargs)\n",
      "C:\\Users\\thoma\\AppData\\Local\\Programs\\Python\\Python39\\lib\\site-packages\\sklearn\\utils\\validation.py:63: DataConversionWarning: A column-vector y was passed when a 1d array was expected. Please change the shape of y to (n_samples, ), for example using ravel().\n",
      "  return f(*args, **kwargs)\n",
      "C:\\Users\\thoma\\AppData\\Local\\Programs\\Python\\Python39\\lib\\site-packages\\sklearn\\utils\\validation.py:63: DataConversionWarning: A column-vector y was passed when a 1d array was expected. Please change the shape of y to (n_samples, ), for example using ravel().\n",
      "  return f(*args, **kwargs)\n",
      "C:\\Users\\thoma\\AppData\\Local\\Programs\\Python\\Python39\\lib\\site-packages\\sklearn\\utils\\validation.py:63: DataConversionWarning: A column-vector y was passed when a 1d array was expected. Please change the shape of y to (n_samples, ), for example using ravel().\n",
      "  return f(*args, **kwargs)\n"
     ]
    },
    {
     "data": {
      "text/plain": "    fit_time  score_time  test_accuracy  test_precision_weighted  \\\n0   0.093892    0.007564       0.716738                 0.714326   \n1   0.073294    0.008576       0.722461                 0.721548   \n2   0.074523    0.011224       0.723891                 0.723042   \n3   0.070163    0.009014       0.716738                 0.714330   \n4   0.057796    0.008016       0.712446                 0.710123   \n5   0.398528    0.044894       0.705293                 0.702883   \n6   0.474376    0.031086       0.698140                 0.697859   \n7   0.720783    0.040510       0.699571                 0.698272   \n8   0.382858    0.041000       0.688126                 0.684792   \n9   0.374085    0.036222       0.726753                 0.724802   \n10  0.002981    0.096438       0.669528                 0.665825   \n11  0.003001    0.084037       0.652361                 0.649521   \n12  0.003434    0.085772       0.663805                 0.661897   \n13  0.002970    0.088367       0.658083                 0.654640   \n14  0.001997    0.100347       0.686695                 0.684295   \n15  0.209605    0.249158       0.725322                 0.724997   \n16  0.186821    0.246440       0.703863                 0.708124   \n17  0.210273    0.253786       0.712446                 0.709904   \n18  0.164983    0.224666       0.706724                 0.704828   \n19  0.205401    0.273152       0.733906                 0.733941   \n20  0.004001    0.007107       0.709585                 0.709720   \n21  0.003983    0.006026       0.715308                 0.715829   \n22  0.002880    0.006088       0.708155                 0.712917   \n23  0.003564    0.006000       0.696710                 0.697612   \n24  0.002001    0.008676       0.713877                 0.714407   \n\n    test_recall_weighted  test_f1_weighted  test_roc_auc model  \n0               0.716738          0.713576      0.784494    LR  \n1               0.722461          0.719815      0.778574    LR  \n2               0.723891          0.723394      0.791458    LR  \n3               0.716738          0.714182      0.779827    LR  \n4               0.712446          0.709658      0.792058    LR  \n5               0.705293          0.703094      0.767876    RF  \n6               0.698140          0.692824      0.755983    RF  \n7               0.699571          0.698777      0.768979    RF  \n8               0.688126          0.684592      0.751780    RF  \n9               0.726753          0.724496      0.782812    RF  \n10              0.669528          0.665968      0.710891   KNN  \n11              0.652361          0.647666      0.706585   KNN  \n12              0.663805          0.662621      0.707785   KNN  \n13              0.658083          0.655370      0.695095   KNN  \n14              0.686695          0.684742      0.706510   KNN  \n15              0.725322          0.718691      0.773360   SVM  \n16              0.703863          0.694800      0.765339   SVM  \n17              0.712446          0.706885      0.786081   SVM  \n18              0.706724          0.699709      0.776921   SVM  \n19              0.733906          0.728196      0.795124   SVM  \n20              0.709585          0.709651      0.782430   GNB  \n21              0.715308          0.715532      0.775164   GNB  \n22              0.708155          0.709559      0.787074   GNB  \n23              0.696710          0.697110      0.776241   GNB  \n24              0.713877          0.714119      0.790417   GNB  ",
      "text/html": "<div>\n<style scoped>\n    .dataframe tbody tr th:only-of-type {\n        vertical-align: middle;\n    }\n\n    .dataframe tbody tr th {\n        vertical-align: top;\n    }\n\n    .dataframe thead th {\n        text-align: right;\n    }\n</style>\n<table border=\"1\" class=\"dataframe\">\n  <thead>\n    <tr style=\"text-align: right;\">\n      <th></th>\n      <th>fit_time</th>\n      <th>score_time</th>\n      <th>test_accuracy</th>\n      <th>test_precision_weighted</th>\n      <th>test_recall_weighted</th>\n      <th>test_f1_weighted</th>\n      <th>test_roc_auc</th>\n      <th>model</th>\n    </tr>\n  </thead>\n  <tbody>\n    <tr>\n      <th>0</th>\n      <td>0.093892</td>\n      <td>0.007564</td>\n      <td>0.716738</td>\n      <td>0.714326</td>\n      <td>0.716738</td>\n      <td>0.713576</td>\n      <td>0.784494</td>\n      <td>LR</td>\n    </tr>\n    <tr>\n      <th>1</th>\n      <td>0.073294</td>\n      <td>0.008576</td>\n      <td>0.722461</td>\n      <td>0.721548</td>\n      <td>0.722461</td>\n      <td>0.719815</td>\n      <td>0.778574</td>\n      <td>LR</td>\n    </tr>\n    <tr>\n      <th>2</th>\n      <td>0.074523</td>\n      <td>0.011224</td>\n      <td>0.723891</td>\n      <td>0.723042</td>\n      <td>0.723891</td>\n      <td>0.723394</td>\n      <td>0.791458</td>\n      <td>LR</td>\n    </tr>\n    <tr>\n      <th>3</th>\n      <td>0.070163</td>\n      <td>0.009014</td>\n      <td>0.716738</td>\n      <td>0.714330</td>\n      <td>0.716738</td>\n      <td>0.714182</td>\n      <td>0.779827</td>\n      <td>LR</td>\n    </tr>\n    <tr>\n      <th>4</th>\n      <td>0.057796</td>\n      <td>0.008016</td>\n      <td>0.712446</td>\n      <td>0.710123</td>\n      <td>0.712446</td>\n      <td>0.709658</td>\n      <td>0.792058</td>\n      <td>LR</td>\n    </tr>\n    <tr>\n      <th>5</th>\n      <td>0.398528</td>\n      <td>0.044894</td>\n      <td>0.705293</td>\n      <td>0.702883</td>\n      <td>0.705293</td>\n      <td>0.703094</td>\n      <td>0.767876</td>\n      <td>RF</td>\n    </tr>\n    <tr>\n      <th>6</th>\n      <td>0.474376</td>\n      <td>0.031086</td>\n      <td>0.698140</td>\n      <td>0.697859</td>\n      <td>0.698140</td>\n      <td>0.692824</td>\n      <td>0.755983</td>\n      <td>RF</td>\n    </tr>\n    <tr>\n      <th>7</th>\n      <td>0.720783</td>\n      <td>0.040510</td>\n      <td>0.699571</td>\n      <td>0.698272</td>\n      <td>0.699571</td>\n      <td>0.698777</td>\n      <td>0.768979</td>\n      <td>RF</td>\n    </tr>\n    <tr>\n      <th>8</th>\n      <td>0.382858</td>\n      <td>0.041000</td>\n      <td>0.688126</td>\n      <td>0.684792</td>\n      <td>0.688126</td>\n      <td>0.684592</td>\n      <td>0.751780</td>\n      <td>RF</td>\n    </tr>\n    <tr>\n      <th>9</th>\n      <td>0.374085</td>\n      <td>0.036222</td>\n      <td>0.726753</td>\n      <td>0.724802</td>\n      <td>0.726753</td>\n      <td>0.724496</td>\n      <td>0.782812</td>\n      <td>RF</td>\n    </tr>\n    <tr>\n      <th>10</th>\n      <td>0.002981</td>\n      <td>0.096438</td>\n      <td>0.669528</td>\n      <td>0.665825</td>\n      <td>0.669528</td>\n      <td>0.665968</td>\n      <td>0.710891</td>\n      <td>KNN</td>\n    </tr>\n    <tr>\n      <th>11</th>\n      <td>0.003001</td>\n      <td>0.084037</td>\n      <td>0.652361</td>\n      <td>0.649521</td>\n      <td>0.652361</td>\n      <td>0.647666</td>\n      <td>0.706585</td>\n      <td>KNN</td>\n    </tr>\n    <tr>\n      <th>12</th>\n      <td>0.003434</td>\n      <td>0.085772</td>\n      <td>0.663805</td>\n      <td>0.661897</td>\n      <td>0.663805</td>\n      <td>0.662621</td>\n      <td>0.707785</td>\n      <td>KNN</td>\n    </tr>\n    <tr>\n      <th>13</th>\n      <td>0.002970</td>\n      <td>0.088367</td>\n      <td>0.658083</td>\n      <td>0.654640</td>\n      <td>0.658083</td>\n      <td>0.655370</td>\n      <td>0.695095</td>\n      <td>KNN</td>\n    </tr>\n    <tr>\n      <th>14</th>\n      <td>0.001997</td>\n      <td>0.100347</td>\n      <td>0.686695</td>\n      <td>0.684295</td>\n      <td>0.686695</td>\n      <td>0.684742</td>\n      <td>0.706510</td>\n      <td>KNN</td>\n    </tr>\n    <tr>\n      <th>15</th>\n      <td>0.209605</td>\n      <td>0.249158</td>\n      <td>0.725322</td>\n      <td>0.724997</td>\n      <td>0.725322</td>\n      <td>0.718691</td>\n      <td>0.773360</td>\n      <td>SVM</td>\n    </tr>\n    <tr>\n      <th>16</th>\n      <td>0.186821</td>\n      <td>0.246440</td>\n      <td>0.703863</td>\n      <td>0.708124</td>\n      <td>0.703863</td>\n      <td>0.694800</td>\n      <td>0.765339</td>\n      <td>SVM</td>\n    </tr>\n    <tr>\n      <th>17</th>\n      <td>0.210273</td>\n      <td>0.253786</td>\n      <td>0.712446</td>\n      <td>0.709904</td>\n      <td>0.712446</td>\n      <td>0.706885</td>\n      <td>0.786081</td>\n      <td>SVM</td>\n    </tr>\n    <tr>\n      <th>18</th>\n      <td>0.164983</td>\n      <td>0.224666</td>\n      <td>0.706724</td>\n      <td>0.704828</td>\n      <td>0.706724</td>\n      <td>0.699709</td>\n      <td>0.776921</td>\n      <td>SVM</td>\n    </tr>\n    <tr>\n      <th>19</th>\n      <td>0.205401</td>\n      <td>0.273152</td>\n      <td>0.733906</td>\n      <td>0.733941</td>\n      <td>0.733906</td>\n      <td>0.728196</td>\n      <td>0.795124</td>\n      <td>SVM</td>\n    </tr>\n    <tr>\n      <th>20</th>\n      <td>0.004001</td>\n      <td>0.007107</td>\n      <td>0.709585</td>\n      <td>0.709720</td>\n      <td>0.709585</td>\n      <td>0.709651</td>\n      <td>0.782430</td>\n      <td>GNB</td>\n    </tr>\n    <tr>\n      <th>21</th>\n      <td>0.003983</td>\n      <td>0.006026</td>\n      <td>0.715308</td>\n      <td>0.715829</td>\n      <td>0.715308</td>\n      <td>0.715532</td>\n      <td>0.775164</td>\n      <td>GNB</td>\n    </tr>\n    <tr>\n      <th>22</th>\n      <td>0.002880</td>\n      <td>0.006088</td>\n      <td>0.708155</td>\n      <td>0.712917</td>\n      <td>0.708155</td>\n      <td>0.709559</td>\n      <td>0.787074</td>\n      <td>GNB</td>\n    </tr>\n    <tr>\n      <th>23</th>\n      <td>0.003564</td>\n      <td>0.006000</td>\n      <td>0.696710</td>\n      <td>0.697612</td>\n      <td>0.696710</td>\n      <td>0.697110</td>\n      <td>0.776241</td>\n      <td>GNB</td>\n    </tr>\n    <tr>\n      <th>24</th>\n      <td>0.002001</td>\n      <td>0.008676</td>\n      <td>0.713877</td>\n      <td>0.714407</td>\n      <td>0.713877</td>\n      <td>0.714119</td>\n      <td>0.790417</td>\n      <td>GNB</td>\n    </tr>\n  </tbody>\n</table>\n</div>"
     },
     "execution_count": 51,
     "metadata": {},
     "output_type": "execute_result"
    }
   ],
   "source": [
    "X_train, X_test, y_train, y_test = train_test_split(X, y, random_state=0, train_size=.75)\n",
    "final = experiments(X_train, y_train, X_test, y_test)\n",
    "final"
   ],
   "metadata": {
    "collapsed": false,
    "pycharm": {
     "name": "#%%\n"
    }
   }
  },
  {
   "cell_type": "markdown",
   "source": [
    "# Fine tune parameters"
   ],
   "metadata": {
    "collapsed": false,
    "pycharm": {
     "name": "#%% md\n"
    }
   }
  },
  {
   "cell_type": "code",
   "execution_count": 52,
   "outputs": [],
   "source": [
    "def fine_tune_models(X_train, y_train, X_test, y_test):\n",
    "    models = [\n",
    "        ('LR', LogisticRegression()),\n",
    "        ('RF', RandomForestClassifier()),\n",
    "        ('KNN', KNeighborsClassifier()),\n",
    "        ('SVM', SVC()),\n",
    "        ('GNB', GaussianNB())\n",
    "    ]\n",
    "\n",
    "    params = [\n",
    "        {\n",
    "            'penalty': ['none', 'l1', 'l2'], 'C': [0.1, 1, 10]\n",
    "        },\n",
    "        {\n",
    "            'bootstrap': [True], 'max_depth': [50, 100], 'max_features': [2, 3], 'min_samples_leaf': [1, 2],\n",
    "            'min_samples_split': [2, 5, 10], 'n_estimators': [100, 500, 1000]\n",
    "        },\n",
    "        {\n",
    "            'n_neighbors': [3, 5, 7], 'p': [1, 2]\n",
    "        },\n",
    "        {\n",
    "            'C': [0.1, 1, 10], 'kernel': ['rbf', 'poly', 'sigmoid']\n",
    "        },\n",
    "        {\n",
    "            'var_smoothing': np.logspace(0, -9, num=100)\n",
    "            # },\n",
    "            # {\n",
    "            #     'max_depth': range(2, 10, 1),\n",
    "            #     'n_estimators': range(60, 220, 40),\n",
    "            #     'learning_rate': [0.1, 0.01, 0.05]\n",
    "        }\n",
    "    ]\n",
    "\n",
    "    best_models = {}\n",
    "\n",
    "    for (name, model), param in zip(models, params):\n",
    "        print(name)\n",
    "        best_model = fine_tune(model, param, X_train, y_train, X_test, y_test)\n",
    "\n",
    "        best_models[name] = best_model\n",
    "\n",
    "    return best_models"
   ],
   "metadata": {
    "collapsed": false,
    "pycharm": {
     "name": "#%%\n"
    }
   }
  },
  {
   "cell_type": "code",
   "execution_count": 53,
   "outputs": [],
   "source": [
    "def fine_tune(model, params, X_train, y_train, X_test, y_test):\n",
    "    target_names = ['win', 'loss']\n",
    "\n",
    "    kfold = model_selection.KFold(n_splits=5, shuffle=True, random_state=0)\n",
    "    model_grid = GridSearchCV(estimator=model,\n",
    "                              param_grid=params,\n",
    "                              cv=kfold,\n",
    "                              verbose=1,\n",
    "                              scoring='accuracy', n_jobs=-1)\n",
    "\n",
    "    model_grid.fit(X_train, y_train)\n",
    "    best_model = model_grid.best_estimator_\n",
    "    y_pred = best_model.predict(X_test)\n",
    "\n",
    "    print(classification_report(y_test, y_pred, target_names=target_names))\n",
    "    print('Accuracy: {}'.format(accuracy_score(y_pred, y_test.Result.values)))\n",
    "    return best_model"
   ],
   "metadata": {
    "collapsed": false,
    "pycharm": {
     "name": "#%%\n"
    }
   }
  },
  {
   "cell_type": "code",
   "execution_count": 54,
   "outputs": [
    {
     "name": "stdout",
     "output_type": "stream",
     "text": [
      "LR\n",
      "Fitting 5 folds for each of 9 candidates, totalling 45 fits\n"
     ]
    },
    {
     "name": "stderr",
     "output_type": "stream",
     "text": [
      "C:\\Users\\thoma\\AppData\\Local\\Programs\\Python\\Python39\\lib\\site-packages\\sklearn\\model_selection\\_search.py:922: UserWarning: One or more of the test scores are non-finite: [0.72074392        nan 0.7193133  0.72074392        nan 0.7193133\n",
      " 0.72074392        nan 0.71988555]\n",
      "  warnings.warn(\n",
      "C:\\Users\\thoma\\AppData\\Local\\Programs\\Python\\Python39\\lib\\site-packages\\sklearn\\linear_model\\_logistic.py:1322: UserWarning: Setting penalty='none' will ignore the C and l1_ratio parameters\n",
      "  warnings.warn(\n",
      "C:\\Users\\thoma\\AppData\\Local\\Programs\\Python\\Python39\\lib\\site-packages\\sklearn\\utils\\validation.py:63: DataConversionWarning: A column-vector y was passed when a 1d array was expected. Please change the shape of y to (n_samples, ), for example using ravel().\n",
      "  return f(*args, **kwargs)\n",
      "C:\\Users\\thoma\\AppData\\Local\\Programs\\Python\\Python39\\lib\\site-packages\\sklearn\\linear_model\\_logistic.py:763: ConvergenceWarning: lbfgs failed to converge (status=1):\n",
      "STOP: TOTAL NO. of ITERATIONS REACHED LIMIT.\n",
      "\n",
      "Increase the number of iterations (max_iter) or scale the data as shown in:\n",
      "    https://scikit-learn.org/stable/modules/preprocessing.html\n",
      "Please also refer to the documentation for alternative solver options:\n",
      "    https://scikit-learn.org/stable/modules/linear_model.html#logistic-regression\n",
      "  n_iter_i = _check_optimize_result(\n"
     ]
    },
    {
     "name": "stdout",
     "output_type": "stream",
     "text": [
      "              precision    recall  f1-score   support\n",
      "\n",
      "         win       0.69      0.59      0.64       479\n",
      "        loss       0.74      0.81      0.78       686\n",
      "\n",
      "    accuracy                           0.72      1165\n",
      "   macro avg       0.72      0.70      0.71      1165\n",
      "weighted avg       0.72      0.72      0.72      1165\n",
      "\n",
      "Accuracy: 0.7227467811158799\n",
      "RF\n",
      "Fitting 5 folds for each of 72 candidates, totalling 360 fits\n"
     ]
    },
    {
     "name": "stderr",
     "output_type": "stream",
     "text": [
      "C:\\Users\\thoma\\AppData\\Local\\Programs\\Python\\Python39\\lib\\site-packages\\sklearn\\model_selection\\_search.py:880: DataConversionWarning: A column-vector y was passed when a 1d array was expected. Please change the shape of y to (n_samples,), for example using ravel().\n",
      "  self.best_estimator_.fit(X, y, **fit_params)\n"
     ]
    },
    {
     "name": "stdout",
     "output_type": "stream",
     "text": [
      "              precision    recall  f1-score   support\n",
      "\n",
      "         win       0.68      0.59      0.63       479\n",
      "        loss       0.74      0.81      0.77       686\n",
      "\n",
      "    accuracy                           0.72      1165\n",
      "   macro avg       0.71      0.70      0.70      1165\n",
      "weighted avg       0.72      0.72      0.71      1165\n",
      "\n",
      "Accuracy: 0.7184549356223175\n",
      "KNN\n",
      "Fitting 5 folds for each of 6 candidates, totalling 30 fits\n"
     ]
    },
    {
     "name": "stderr",
     "output_type": "stream",
     "text": [
      "C:\\Users\\thoma\\AppData\\Local\\Programs\\Python\\Python39\\lib\\site-packages\\sklearn\\neighbors\\_classification.py:179: DataConversionWarning: A column-vector y was passed when a 1d array was expected. Please change the shape of y to (n_samples,), for example using ravel().\n",
      "  return self._fit(X, y)\n"
     ]
    },
    {
     "name": "stdout",
     "output_type": "stream",
     "text": [
      "              precision    recall  f1-score   support\n",
      "\n",
      "         win       0.61      0.57      0.59       479\n",
      "        loss       0.71      0.75      0.73       686\n",
      "\n",
      "    accuracy                           0.68      1165\n",
      "   macro avg       0.66      0.66      0.66      1165\n",
      "weighted avg       0.67      0.68      0.67      1165\n",
      "\n",
      "Accuracy: 0.6755364806866953\n",
      "SVM\n",
      "Fitting 5 folds for each of 9 candidates, totalling 45 fits\n"
     ]
    },
    {
     "name": "stderr",
     "output_type": "stream",
     "text": [
      "C:\\Users\\thoma\\AppData\\Local\\Programs\\Python\\Python39\\lib\\site-packages\\sklearn\\utils\\validation.py:63: DataConversionWarning: A column-vector y was passed when a 1d array was expected. Please change the shape of y to (n_samples, ), for example using ravel().\n",
      "  return f(*args, **kwargs)\n"
     ]
    },
    {
     "name": "stdout",
     "output_type": "stream",
     "text": [
      "              precision    recall  f1-score   support\n",
      "\n",
      "         win       0.72      0.54      0.62       479\n",
      "        loss       0.73      0.85      0.78       686\n",
      "\n",
      "    accuracy                           0.72      1165\n",
      "   macro avg       0.72      0.70      0.70      1165\n",
      "weighted avg       0.72      0.72      0.72      1165\n",
      "\n",
      "Accuracy: 0.7236051502145923\n",
      "GNB\n",
      "Fitting 5 folds for each of 100 candidates, totalling 500 fits\n",
      "              precision    recall  f1-score   support\n",
      "\n",
      "         win       0.67      0.64      0.65       479\n",
      "        loss       0.76      0.77      0.77       686\n",
      "\n",
      "    accuracy                           0.72      1165\n",
      "   macro avg       0.71      0.71      0.71      1165\n",
      "weighted avg       0.72      0.72      0.72      1165\n",
      "\n",
      "Accuracy: 0.7201716738197425\n"
     ]
    },
    {
     "name": "stderr",
     "output_type": "stream",
     "text": [
      "C:\\Users\\thoma\\AppData\\Local\\Programs\\Python\\Python39\\lib\\site-packages\\sklearn\\utils\\validation.py:63: DataConversionWarning: A column-vector y was passed when a 1d array was expected. Please change the shape of y to (n_samples, ), for example using ravel().\n",
      "  return f(*args, **kwargs)\n"
     ]
    },
    {
     "data": {
      "text/plain": "{'LR': LogisticRegression(C=0.1, penalty='none'),\n 'RF': RandomForestClassifier(max_depth=100, max_features=2, min_samples_split=5,\n                        n_estimators=500),\n 'KNN': KNeighborsClassifier(n_neighbors=7, p=1),\n 'SVM': SVC(C=10),\n 'GNB': GaussianNB(var_smoothing=0.03511191734215131)}"
     },
     "execution_count": 54,
     "metadata": {},
     "output_type": "execute_result"
    }
   ],
   "source": [
    "best_models = fine_tune_models(X_train, y_train, X_test, y_test)\n",
    "best_models"
   ],
   "metadata": {
    "collapsed": false,
    "pycharm": {
     "name": "#%%\n"
    }
   }
  },
  {
   "cell_type": "code",
   "execution_count": 77,
   "outputs": [
    {
     "data": {
      "text/plain": "  classifier  accuracy  precision    recall        f1\n0         LR  0.722747   0.811953  0.741678  0.775226\n1         RF  0.718455   0.809038  0.738032  0.771905\n2        KNN  0.675536   0.752187  0.712707  0.731915\n3        SVM  0.723605   0.849854  0.726933  0.783602\n4        GNB  0.720172   0.774052  0.756410  0.765130",
      "text/html": "<div>\n<style scoped>\n    .dataframe tbody tr th:only-of-type {\n        vertical-align: middle;\n    }\n\n    .dataframe tbody tr th {\n        vertical-align: top;\n    }\n\n    .dataframe thead th {\n        text-align: right;\n    }\n</style>\n<table border=\"1\" class=\"dataframe\">\n  <thead>\n    <tr style=\"text-align: right;\">\n      <th></th>\n      <th>classifier</th>\n      <th>accuracy</th>\n      <th>precision</th>\n      <th>recall</th>\n      <th>f1</th>\n    </tr>\n  </thead>\n  <tbody>\n    <tr>\n      <th>0</th>\n      <td>LR</td>\n      <td>0.722747</td>\n      <td>0.811953</td>\n      <td>0.741678</td>\n      <td>0.775226</td>\n    </tr>\n    <tr>\n      <th>1</th>\n      <td>RF</td>\n      <td>0.718455</td>\n      <td>0.809038</td>\n      <td>0.738032</td>\n      <td>0.771905</td>\n    </tr>\n    <tr>\n      <th>2</th>\n      <td>KNN</td>\n      <td>0.675536</td>\n      <td>0.752187</td>\n      <td>0.712707</td>\n      <td>0.731915</td>\n    </tr>\n    <tr>\n      <th>3</th>\n      <td>SVM</td>\n      <td>0.723605</td>\n      <td>0.849854</td>\n      <td>0.726933</td>\n      <td>0.783602</td>\n    </tr>\n    <tr>\n      <th>4</th>\n      <td>GNB</td>\n      <td>0.720172</td>\n      <td>0.774052</td>\n      <td>0.756410</td>\n      <td>0.765130</td>\n    </tr>\n  </tbody>\n</table>\n</div>"
     },
     "execution_count": 77,
     "metadata": {},
     "output_type": "execute_result"
    }
   ],
   "source": [
    "metrics_dict = {\n",
    "    'LR': [],\n",
    "    'RF': [],\n",
    "    'KNN': [],\n",
    "    'SVM': [],\n",
    "    'GNB': []\n",
    "}\n",
    "for name, model in best_models.items():\n",
    "    y_pred = model.predict(X_test)\n",
    "    metrics_dict[name].append(accuracy_score(y_pred, y_test))\n",
    "    metrics_dict[name].append(precision_score(y_pred, y_test))\n",
    "    metrics_dict[name].append(recall_score(y_pred, y_test))\n",
    "    metrics_dict[name].append(f1_score(y_pred, y_test))\n",
    "metrics_df = pd.DataFrame.from_dict(metrics_dict, columns=['accuracy', 'precision', 'recall', 'f1'], orient='index')\n",
    "metrics_df.reset_index(inplace=True)\n",
    "metrics_df.rename(columns={'index': 'classifier'}, inplace=True)\n",
    "metrics_df"
   ],
   "metadata": {
    "collapsed": false,
    "pycharm": {
     "name": "#%%\n"
    }
   }
  },
  {
   "cell_type": "code",
   "execution_count": 55,
   "outputs": [
    {
     "data": {
      "text/plain": "array(['away_fg_made', 'away_fg_missed', 'away_ft_made', 'away_ft_missed',\n       'away_pf', 'away_reb', 'away_stl', 'away_to', 'home_fg_made',\n       'home_fg_missed', 'home_ft_made', 'home_ft_missed', 'home_pf',\n       'home_reb', 'home_stl', 'home_to', 'lead_changes', 'homeScore',\n       'awayScore', 'pointDiff', 'pointSum'], dtype=object)"
     },
     "execution_count": 55,
     "metadata": {},
     "output_type": "execute_result"
    }
   ],
   "source": [
    "features = X.columns.values\n",
    "features"
   ],
   "metadata": {
    "collapsed": false,
    "pycharm": {
     "name": "#%%\n"
    }
   }
  },
  {
   "cell_type": "code",
   "execution_count": 78,
   "outputs": [
    {
     "name": "stdout",
     "output_type": "stream",
     "text": [
      "Feature: away_fg_made, Score: -0.14246048544198855\n",
      "Feature: away_fg_missed, Score: 0.03898900209898327\n",
      "Feature: away_ft_made, Score: -0.0426397242134387\n",
      "Feature: away_ft_missed, Score: 0.01629238118297044\n",
      "Feature: away_pf, Score: 0.0022129742472207325\n",
      "Feature: away_reb, Score: -0.0259840682713935\n",
      "Feature: away_stl, Score: 0.03286938830789969\n",
      "Feature: away_to, Score: 0.022156120801090962\n",
      "Feature: home_fg_made, Score: 0.14889852700690961\n",
      "Feature: home_fg_missed, Score: -0.002855840687211791\n",
      "Feature: home_ft_made, Score: 0.0726072122170503\n",
      "Feature: home_ft_missed, Score: 0.014364526492602463\n",
      "Feature: home_pf, Score: -0.03404112020347001\n",
      "Feature: home_reb, Score: -0.004067330356130493\n",
      "Feature: home_stl, Score: -0.031753225558975286\n",
      "Feature: home_to, Score: -0.028109894419108016\n",
      "Feature: lead_changes, Score: -0.00040792004998727103\n",
      "Feature: homeScore, Score: 0.017435833130584753\n",
      "Feature: awayScore, Score: -0.017974711281248373\n",
      "Feature: pointDiff, Score: 0.03541054441183186\n",
      "Feature: pointSum, Score: -0.0005388781506675992\n"
     ]
    },
    {
     "data": {
      "text/plain": "<Figure size 432x288 with 1 Axes>",
      "image/png": "[encoded data removed]"
     },
     "metadata": {
      "needs_background": "light"
     },
     "output_type": "display_data"
    }
   ],
   "source": [
    "lr_best_model = best_models['LR']\n",
    "importance = lr_best_model.coef_[0]\n",
    "# summarize feature importance\n",
    "for i, v in zip(features, importance):\n",
    "    print('Feature: {}, Score: {}'.format(i, v))\n",
    "# plot feature importance\n",
    "from matplotlib import pyplot\n",
    "\n",
    "pyplot.bar([x for x in range(len(importance))], importance)\n",
    "pyplot.title('Importance of features when using Logistic Regression')\n",
    "pyplot.ylabel('Importance')\n",
    "pyplot.xlabel('Feature')\n",
    "pyplot.xticks(range(len(features)), features, rotation = 90)\n",
    "pyplot.savefig('lr_feature_importance.png', bbox_inches='tight')\n",
    "pyplot.show()"
   ],
   "metadata": {
    "collapsed": false,
    "pycharm": {
     "name": "#%%\n"
    }
   }
  },
  {
   "cell_type": "code",
   "execution_count": 79,
   "outputs": [
    {
     "name": "stdout",
     "output_type": "stream",
     "text": [
      "Feature: away_fg_made, Score: 0.06307255022829045\n",
      "Feature: away_fg_missed, Score: 0.046479025435220596\n",
      "Feature: away_ft_made, Score: 0.03777835077988145\n",
      "Feature: away_ft_missed, Score: 0.029159572300779733\n",
      "Feature: away_pf, Score: 0.03580353927644539\n",
      "Feature: away_reb, Score: 0.046919546384599616\n",
      "Feature: away_stl, Score: 0.03202780091924486\n",
      "Feature: away_to, Score: 0.02791438793147165\n",
      "Feature: home_fg_made, Score: 0.06067955366241764\n",
      "Feature: home_fg_missed, Score: 0.04792257192156654\n",
      "Feature: home_ft_made, Score: 0.03932224730540412\n",
      "Feature: home_ft_missed, Score: 0.028997986043415247\n",
      "Feature: home_pf, Score: 0.03696843745372021\n",
      "Feature: home_reb, Score: 0.045570853084479696\n",
      "Feature: home_stl, Score: 0.03239794886667398\n",
      "Feature: home_to, Score: 0.02915972321921806\n",
      "Feature: lead_changes, Score: 0.04895854839512605\n",
      "Feature: homeScore, Score: 0.06486046759267328\n",
      "Feature: awayScore, Score: 0.0673937473375325\n",
      "Feature: pointDiff, Score: 0.12808982774654823\n",
      "Feature: pointSum, Score: 0.050523314115290784\n"
     ]
    },
    {
     "data": {
      "text/plain": "<Figure size 432x288 with 1 Axes>",
      "image/png": "[encoded data removed]"
     },
     "metadata": {
      "needs_background": "light"
     },
     "output_type": "display_data"
    }
   ],
   "source": [
    "rf_best_model = best_models['RF']\n",
    "importance = rf_best_model.feature_importances_\n",
    "# summarize feature importance\n",
    "for i, v in zip(features, importance):\n",
    "    print('Feature: {}, Score: {}'.format(i, v))\n",
    "# plot feature importance\n",
    "pyplot.bar([x for x in range(len(importance))], importance)\n",
    "pyplot.title('Importance of features when using Random Forest')\n",
    "pyplot.ylabel('Importance')\n",
    "pyplot.xlabel('Feature')\n",
    "pyplot.xticks(range(len(features)), features, rotation = 90)\n",
    "pyplot.savefig('rf_feature_importance.png', bbox_inches='tight')\n",
    "pyplot.show()"
   ],
   "metadata": {
    "collapsed": false,
    "pycharm": {
     "name": "#%%\n"
    }
   }
  }
 ],
 "metadata": {
  "kernelspec": {
   "display_name": "Python 3",
   "language": "python",
   "name": "python3"
  },
  "language_info": {
   "codemirror_mode": {
    "name": "ipython",
    "version": 2
   },
   "file_extension": ".py",
   "mimetype": "text/x-python",
   "name": "python",
   "nbconvert_exporter": "python",
   "pygments_lexer": "ipython2",
   "version": "2.7.6"
  }
 },
 "nbformat": 4,
 "nbformat_minor": 0
}